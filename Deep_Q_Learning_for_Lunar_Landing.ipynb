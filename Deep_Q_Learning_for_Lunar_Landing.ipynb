{
  "cells": [
    {
      "cell_type": "markdown",
      "metadata": {
        "id": "view-in-github",
        "colab_type": "text"
      },
      "source": [
        "<a href=\"https://colab.research.google.com/github/VladOS95-cyber/ai_models/blob/main/Deep_Q_Learning_for_Lunar_Landing.ipynb\" target=\"_parent\"><img src=\"https://colab.research.google.com/assets/colab-badge.svg\" alt=\"Open In Colab\"/></a>"
      ]
    },
    {
      "cell_type": "markdown",
      "metadata": {
        "id": "LbZcI9ZXHl3a"
      },
      "source": [
        "# Deep Q-Learning for Lunar Landing"
      ]
    },
    {
      "cell_type": "markdown",
      "metadata": {
        "id": "E8yPRjteXgPb"
      },
      "source": [
        "## Part 0 - Installing the required packages and importing the libraries"
      ]
    },
    {
      "cell_type": "markdown",
      "metadata": {
        "id": "slEm5teGWjWU"
      },
      "source": [
        "### Installing Gymnasium"
      ]
    },
    {
      "cell_type": "code",
      "execution_count": 1,
      "metadata": {
        "id": "dbnq3XpoKa_7",
        "colab": {
          "base_uri": "https://localhost:8080/"
        },
        "outputId": "d191f778-f6c8-4ea5-a5cf-b3ed21fa0f06"
      },
      "outputs": [
        {
          "output_type": "stream",
          "name": "stdout",
          "text": [
            "Collecting gymnasium\n",
            "  Downloading gymnasium-0.29.1-py3-none-any.whl (953 kB)\n",
            "\u001b[?25l     \u001b[90m━━━━━━━━━━━━━━━━━━━━━━━━━━━━━━━━━━━━━━━━\u001b[0m \u001b[32m0.0/953.9 kB\u001b[0m \u001b[31m?\u001b[0m eta \u001b[36m-:--:--\u001b[0m\r\u001b[2K     \u001b[91m━━━━\u001b[0m\u001b[91m╸\u001b[0m\u001b[90m━━━━━━━━━━━━━━━━━━━━━━━━━━━━━━━━━━━\u001b[0m \u001b[32m112.6/953.9 kB\u001b[0m \u001b[31m3.2 MB/s\u001b[0m eta \u001b[36m0:00:01\u001b[0m\r\u001b[2K     \u001b[90m━━━━━━━━━━━━━━━━━━━━━━━━━━━━━━━━━━━━━━━━\u001b[0m \u001b[32m953.9/953.9 kB\u001b[0m \u001b[31m14.1 MB/s\u001b[0m eta \u001b[36m0:00:00\u001b[0m\n",
            "\u001b[?25hRequirement already satisfied: numpy>=1.21.0 in /usr/local/lib/python3.10/dist-packages (from gymnasium) (1.25.2)\n",
            "Requirement already satisfied: cloudpickle>=1.2.0 in /usr/local/lib/python3.10/dist-packages (from gymnasium) (2.2.1)\n",
            "Requirement already satisfied: typing-extensions>=4.3.0 in /usr/local/lib/python3.10/dist-packages (from gymnasium) (4.10.0)\n",
            "Collecting farama-notifications>=0.0.1 (from gymnasium)\n",
            "  Downloading Farama_Notifications-0.0.4-py3-none-any.whl (2.5 kB)\n",
            "Installing collected packages: farama-notifications, gymnasium\n",
            "Successfully installed farama-notifications-0.0.4 gymnasium-0.29.1\n",
            "Requirement already satisfied: gymnasium[accept-rom-license,atari] in /usr/local/lib/python3.10/dist-packages (0.29.1)\n",
            "Requirement already satisfied: numpy>=1.21.0 in /usr/local/lib/python3.10/dist-packages (from gymnasium[accept-rom-license,atari]) (1.25.2)\n",
            "Requirement already satisfied: cloudpickle>=1.2.0 in /usr/local/lib/python3.10/dist-packages (from gymnasium[accept-rom-license,atari]) (2.2.1)\n",
            "Requirement already satisfied: typing-extensions>=4.3.0 in /usr/local/lib/python3.10/dist-packages (from gymnasium[accept-rom-license,atari]) (4.10.0)\n",
            "Requirement already satisfied: farama-notifications>=0.0.1 in /usr/local/lib/python3.10/dist-packages (from gymnasium[accept-rom-license,atari]) (0.0.4)\n",
            "Collecting autorom[accept-rom-license]~=0.4.2 (from gymnasium[accept-rom-license,atari])\n",
            "  Downloading AutoROM-0.4.2-py3-none-any.whl (16 kB)\n",
            "Collecting shimmy[atari]<1.0,>=0.1.0 (from gymnasium[accept-rom-license,atari])\n",
            "  Downloading Shimmy-0.2.1-py3-none-any.whl (25 kB)\n",
            "Requirement already satisfied: click in /usr/local/lib/python3.10/dist-packages (from autorom[accept-rom-license]~=0.4.2->gymnasium[accept-rom-license,atari]) (8.1.7)\n",
            "Requirement already satisfied: requests in /usr/local/lib/python3.10/dist-packages (from autorom[accept-rom-license]~=0.4.2->gymnasium[accept-rom-license,atari]) (2.31.0)\n",
            "Requirement already satisfied: tqdm in /usr/local/lib/python3.10/dist-packages (from autorom[accept-rom-license]~=0.4.2->gymnasium[accept-rom-license,atari]) (4.66.2)\n",
            "Collecting AutoROM.accept-rom-license (from autorom[accept-rom-license]~=0.4.2->gymnasium[accept-rom-license,atari])\n",
            "  Downloading AutoROM.accept-rom-license-0.6.1.tar.gz (434 kB)\n",
            "\u001b[2K     \u001b[90m━━━━━━━━━━━━━━━━━━━━━━━━━━━━━━━━━━━━━━━━\u001b[0m \u001b[32m434.7/434.7 kB\u001b[0m \u001b[31m14.3 MB/s\u001b[0m eta \u001b[36m0:00:00\u001b[0m\n",
            "\u001b[?25h  Installing build dependencies ... \u001b[?25l\u001b[?25hdone\n",
            "  Getting requirements to build wheel ... \u001b[?25l\u001b[?25hdone\n",
            "  Preparing metadata (pyproject.toml) ... \u001b[?25l\u001b[?25hdone\n",
            "Collecting ale-py~=0.8.1 (from shimmy[atari]<1.0,>=0.1.0->gymnasium[accept-rom-license,atari])\n",
            "  Downloading ale_py-0.8.1-cp310-cp310-manylinux_2_17_x86_64.manylinux2014_x86_64.whl (1.7 MB)\n",
            "\u001b[2K     \u001b[90m━━━━━━━━━━━━━━━━━━━━━━━━━━━━━━━━━━━━━━━━\u001b[0m \u001b[32m1.7/1.7 MB\u001b[0m \u001b[31m56.6 MB/s\u001b[0m eta \u001b[36m0:00:00\u001b[0m\n",
            "\u001b[?25hRequirement already satisfied: importlib-resources in /usr/local/lib/python3.10/dist-packages (from ale-py~=0.8.1->shimmy[atari]<1.0,>=0.1.0->gymnasium[accept-rom-license,atari]) (6.1.2)\n",
            "Requirement already satisfied: charset-normalizer<4,>=2 in /usr/local/lib/python3.10/dist-packages (from requests->autorom[accept-rom-license]~=0.4.2->gymnasium[accept-rom-license,atari]) (3.3.2)\n",
            "Requirement already satisfied: idna<4,>=2.5 in /usr/local/lib/python3.10/dist-packages (from requests->autorom[accept-rom-license]~=0.4.2->gymnasium[accept-rom-license,atari]) (3.6)\n",
            "Requirement already satisfied: urllib3<3,>=1.21.1 in /usr/local/lib/python3.10/dist-packages (from requests->autorom[accept-rom-license]~=0.4.2->gymnasium[accept-rom-license,atari]) (2.0.7)\n",
            "Requirement already satisfied: certifi>=2017.4.17 in /usr/local/lib/python3.10/dist-packages (from requests->autorom[accept-rom-license]~=0.4.2->gymnasium[accept-rom-license,atari]) (2024.2.2)\n",
            "Building wheels for collected packages: AutoROM.accept-rom-license\n",
            "  Building wheel for AutoROM.accept-rom-license (pyproject.toml) ... \u001b[?25l\u001b[?25hdone\n",
            "  Created wheel for AutoROM.accept-rom-license: filename=AutoROM.accept_rom_license-0.6.1-py3-none-any.whl size=446660 sha256=4ce62ef57f15fad14add231e25254874db545496f912c29cc3d6f7f92dcded74\n",
            "  Stored in directory: /root/.cache/pip/wheels/6b/1b/ef/a43ff1a2f1736d5711faa1ba4c1f61be1131b8899e6a057811\n",
            "Successfully built AutoROM.accept-rom-license\n",
            "Installing collected packages: ale-py, shimmy, AutoROM.accept-rom-license, autorom\n",
            "Successfully installed AutoROM.accept-rom-license-0.6.1 ale-py-0.8.1 autorom-0.4.2 shimmy-0.2.1\n",
            "Reading package lists... Done\n",
            "Building dependency tree... Done\n",
            "Reading state information... Done\n",
            "The following additional packages will be installed:\n",
            "  swig4.0\n",
            "Suggested packages:\n",
            "  swig-doc swig-examples swig4.0-examples swig4.0-doc\n",
            "The following NEW packages will be installed:\n",
            "  swig swig4.0\n",
            "0 upgraded, 2 newly installed, 0 to remove and 35 not upgraded.\n",
            "Need to get 1,116 kB of archives.\n",
            "After this operation, 5,542 kB of additional disk space will be used.\n",
            "Get:1 http://archive.ubuntu.com/ubuntu jammy/universe amd64 swig4.0 amd64 4.0.2-1ubuntu1 [1,110 kB]\n",
            "Get:2 http://archive.ubuntu.com/ubuntu jammy/universe amd64 swig all 4.0.2-1ubuntu1 [5,632 B]\n",
            "Fetched 1,116 kB in 1s (1,341 kB/s)\n",
            "Selecting previously unselected package swig4.0.\n",
            "(Reading database ... 121749 files and directories currently installed.)\n",
            "Preparing to unpack .../swig4.0_4.0.2-1ubuntu1_amd64.deb ...\n",
            "Unpacking swig4.0 (4.0.2-1ubuntu1) ...\n",
            "Selecting previously unselected package swig.\n",
            "Preparing to unpack .../swig_4.0.2-1ubuntu1_all.deb ...\n",
            "Unpacking swig (4.0.2-1ubuntu1) ...\n",
            "Setting up swig4.0 (4.0.2-1ubuntu1) ...\n",
            "Setting up swig (4.0.2-1ubuntu1) ...\n",
            "Processing triggers for man-db (2.10.2-1) ...\n",
            "Requirement already satisfied: gymnasium[box2d] in /usr/local/lib/python3.10/dist-packages (0.29.1)\n",
            "Requirement already satisfied: numpy>=1.21.0 in /usr/local/lib/python3.10/dist-packages (from gymnasium[box2d]) (1.25.2)\n",
            "Requirement already satisfied: cloudpickle>=1.2.0 in /usr/local/lib/python3.10/dist-packages (from gymnasium[box2d]) (2.2.1)\n",
            "Requirement already satisfied: typing-extensions>=4.3.0 in /usr/local/lib/python3.10/dist-packages (from gymnasium[box2d]) (4.10.0)\n",
            "Requirement already satisfied: farama-notifications>=0.0.1 in /usr/local/lib/python3.10/dist-packages (from gymnasium[box2d]) (0.0.4)\n",
            "Collecting box2d-py==2.3.5 (from gymnasium[box2d])\n",
            "  Downloading box2d-py-2.3.5.tar.gz (374 kB)\n",
            "\u001b[2K     \u001b[90m━━━━━━━━━━━━━━━━━━━━━━━━━━━━━━━━━━━━━━━━\u001b[0m \u001b[32m374.4/374.4 kB\u001b[0m \u001b[31m5.3 MB/s\u001b[0m eta \u001b[36m0:00:00\u001b[0m\n",
            "\u001b[?25h  Preparing metadata (setup.py) ... \u001b[?25l\u001b[?25hdone\n",
            "Requirement already satisfied: pygame>=2.1.3 in /usr/local/lib/python3.10/dist-packages (from gymnasium[box2d]) (2.5.2)\n",
            "Collecting swig==4.* (from gymnasium[box2d])\n",
            "  Downloading swig-4.2.1-py2.py3-none-manylinux_2_5_x86_64.manylinux1_x86_64.whl (1.9 MB)\n",
            "\u001b[2K     \u001b[90m━━━━━━━━━━━━━━━━━━━━━━━━━━━━━━━━━━━━━━━━\u001b[0m \u001b[32m1.9/1.9 MB\u001b[0m \u001b[31m46.9 MB/s\u001b[0m eta \u001b[36m0:00:00\u001b[0m\n",
            "\u001b[?25hBuilding wheels for collected packages: box2d-py\n",
            "  Building wheel for box2d-py (setup.py) ... \u001b[?25l\u001b[?25hdone\n",
            "  Created wheel for box2d-py: filename=box2d_py-2.3.5-cp310-cp310-linux_x86_64.whl size=2349119 sha256=323a5850717534c1c69e614bf2927acf4a56d112df07f40e6b441a89eab97692\n",
            "  Stored in directory: /root/.cache/pip/wheels/db/8f/6a/eaaadf056fba10a98d986f6dce954e6201ba3126926fc5ad9e\n",
            "Successfully built box2d-py\n",
            "Installing collected packages: swig, box2d-py\n",
            "Successfully installed box2d-py-2.3.5 swig-4.2.1\n"
          ]
        }
      ],
      "source": [
        "!pip install gymnasium\n",
        "!pip install \"gymnasium[atari, accept-rom-license]\"\n",
        "!apt-get install -y swig\n",
        "!pip install gymnasium[box2d]"
      ]
    },
    {
      "cell_type": "markdown",
      "metadata": {
        "id": "brqiMN3UW9T9"
      },
      "source": [
        "### Importing the libraries"
      ]
    },
    {
      "cell_type": "code",
      "execution_count": 2,
      "metadata": {
        "id": "mZaKXP_aMl9O"
      },
      "outputs": [],
      "source": [
        "import os\n",
        "import random\n",
        "import numpy as np\n",
        "import torch\n",
        "import torch.nn as nn\n",
        "import torch.optim as optim\n",
        "import torch.nn.functional as F\n",
        "import torch.autograd as autograd\n",
        "from torch.autograd import Variable\n",
        "from collections import deque, namedtuple"
      ]
    },
    {
      "cell_type": "markdown",
      "metadata": {
        "id": "EzlDKXvkXzGI"
      },
      "source": [
        "## Part 1 - Building the AI"
      ]
    },
    {
      "cell_type": "markdown",
      "metadata": {
        "id": "UtG6Zc83YYy3"
      },
      "source": [
        "### Creating the architecture of the Neural Network\n",
        "\n"
      ]
    },
    {
      "cell_type": "code",
      "source": [
        "class Network(nn.Module):\n",
        "  def __init__(self, state_size, action_size, seed=42) -> None:\n",
        "      super(Network, self).__init__()\n",
        "      self.seed = torch.manual_seed(seed)\n",
        "      self.fc1 = nn.Linear(state_size, 64)\n",
        "      self.fc2 = nn.Linear(64, 64)\n",
        "      self.fc3 = nn.Linear(64, action_size)\n",
        "\n",
        "  def forward(self, state):\n",
        "    x = self.fc1(state)\n",
        "    x = F.relu(x)\n",
        "    x = self.fc2(x)\n",
        "    x = F.relu(x)\n",
        "    return self.fc3(x)"
      ],
      "metadata": {
        "id": "IoaeMzwIrBLe"
      },
      "execution_count": 3,
      "outputs": []
    },
    {
      "cell_type": "markdown",
      "metadata": {
        "id": "UxVrBnFWZKb1"
      },
      "source": [
        "## Part 2 - Training the AI"
      ]
    },
    {
      "cell_type": "markdown",
      "metadata": {
        "id": "T364fz9qZb2j"
      },
      "source": [
        "### Setting up the environment"
      ]
    },
    {
      "cell_type": "code",
      "source": [
        "import gymnasium as gym\n",
        "env = gym.make('LunarLander-v2')\n",
        "state_shape = env.observation_space.shape\n",
        "state_size = env.observation_space.shape[0]\n",
        "number_actions = env.action_space.n\n",
        "print(f'State shape: {state_shape}')\n",
        "print(f'State size: {state_size}')\n",
        "print(f'Number of actions: {number_actions}')"
      ],
      "metadata": {
        "colab": {
          "base_uri": "https://localhost:8080/"
        },
        "id": "MtCkLBWdulQR",
        "outputId": "513f8bd7-9da6-4247-93bb-8e9ce85dd46f"
      },
      "execution_count": 4,
      "outputs": [
        {
          "output_type": "stream",
          "name": "stdout",
          "text": [
            "State shape: (8,)\n",
            "State size: 8\n",
            "Number of actions: 4\n"
          ]
        }
      ]
    },
    {
      "cell_type": "markdown",
      "metadata": {
        "id": "c_dZmOIvZgj-"
      },
      "source": [
        "### Initializing the hyperparameters"
      ]
    },
    {
      "cell_type": "code",
      "source": [
        "learning_rate = 5e-4\n",
        "minibatch_size = 100\n",
        "discount_factor = 0.99\n",
        "replay_buffer_size  = int(1e5) #100000\n",
        "interpolation_parameter = 1e-3 #0.001"
      ],
      "metadata": {
        "id": "73ni8MlKv5lp",
        "colab": {
          "base_uri": "https://localhost:8080/"
        },
        "outputId": "17ecd940-9b22-47e7-8dc4-2014b42ff933"
      },
      "execution_count": 5,
      "outputs": [
        {
          "output_type": "stream",
          "name": "stderr",
          "text": [
            "/usr/local/lib/python3.10/dist-packages/ipykernel/ipkernel.py:283: DeprecationWarning: `should_run_async` will not call `transform_cell` automatically in the future. Please pass the result to `transformed_cell` argument and any exception that happen during thetransform in `preprocessing_exc_tuple` in IPython 7.17 and above.\n",
            "  and should_run_async(code)\n"
          ]
        }
      ]
    },
    {
      "cell_type": "markdown",
      "metadata": {
        "id": "8hD_Vs-bYnip"
      },
      "source": [
        "### Implementing Experience Replay"
      ]
    },
    {
      "cell_type": "code",
      "source": [
        "class ReplayMemory(object):\n",
        "  def __init__(self, capacity) -> None:\n",
        "     self.device = torch.device('cuda:0' if torch.cuda.is_available() else 'cpu')\n",
        "     self.capacity = capacity\n",
        "     self.memory = []\n",
        "\n",
        "  def push(self, event):\n",
        "    self.memory.append(event)\n",
        "    if len(self.memory) > self.capacity:\n",
        "      del self.memory[0]\n",
        "\n",
        "  def sample(self, batch_size):\n",
        "    experiences = random.sample(self.memory, k=batch_size)\n",
        "    states = torch.from_numpy(np.vstack([e[0] for e in experiences if e is not None])).float().to(self.device)\n",
        "    actions = torch.from_numpy(np.vstack([e[1] for e in experiences if e is not None])).long().to(self.device)\n",
        "    rewards = torch.from_numpy(np.vstack([e[2] for e in experiences if e is not None])).float().to(self.device)\n",
        "    next_states = torch.from_numpy(np.vstack([e[3] for e in experiences if e is not None])).float().to(self.device)\n",
        "    dones = torch.from_numpy(np.vstack([e[4] for e in experiences if e is not None]).astype(np.uint8)).float().to(self.device)\n",
        "    return states, next_states, actions, rewards, dones"
      ],
      "metadata": {
        "id": "5o6PxD_OxHbh"
      },
      "execution_count": 6,
      "outputs": []
    },
    {
      "cell_type": "markdown",
      "metadata": {
        "id": "JmEkbFbUY6Jt"
      },
      "source": [
        "### Implementing the DQN class"
      ]
    },
    {
      "cell_type": "code",
      "source": [
        "class Agent():\n",
        "\n",
        "  def __init__(self, state_size, action_size):\n",
        "    self.device = torch.device('cuda:0' if torch.cuda.is_available() else 'cpu')\n",
        "    self.state_size = state_size\n",
        "    self.action_size = action_size\n",
        "    self.local_qnetwork = Network(state_size, action_size).to(self.device)\n",
        "    self.target_qnetwork = Network(state_size, action_size).to(self.device)\n",
        "    self.optimizer = optim.Adam(self.local_qnetwork.parameters(), lr=learning_rate)\n",
        "    self.memory = ReplayMemory(replay_buffer_size)\n",
        "    self.t_step = 0\n",
        "\n",
        "  def step(self, state, action, reward, next_state, done):\n",
        "    self.memory.push((state, action, reward, next_state, done))\n",
        "    self.t_step = (self.t_step + 1) % 4\n",
        "    if self.t_step == 0:\n",
        "      if len(self.memory.memory) > minibatch_size:\n",
        "        experiences = self.memory.sample(100)\n",
        "        self.learn(experiences, discount_factor)\n",
        "\n",
        "  def act(self, state, epsilon = 0.):\n",
        "    state = torch.from_numpy(state).float().unsqueeze(0).to(self.device)\n",
        "    self.local_qnetwork.eval()\n",
        "    with torch.no_grad():\n",
        "      action_values = self.local_qnetwork(state)\n",
        "    self.local_qnetwork.train()\n",
        "    if random.random() > epsilon:\n",
        "      return np.argmax(action_values.cpu().data.numpy())\n",
        "    else:\n",
        "      return random.choice(np.arange(self.action_size))\n",
        "\n",
        "  def learn(self, experiences, discount_factor):\n",
        "    states, next_states, actions, rewards, dones = experiences\n",
        "    next_q_targets = self.target_qnetwork(next_states).detach().max(1)[0].unsqueeze(1)\n",
        "    q_targets = rewards + (discount_factor * next_q_targets * (1 - dones))\n",
        "    q_expected = self.local_qnetwork(states).gather(1, actions)\n",
        "    loss = F.mse_loss(q_expected, q_targets)\n",
        "    self.optimizer.zero_grad()\n",
        "    loss.backward()\n",
        "    self.optimizer.step()\n",
        "    self.soft_update(self.local_qnetwork, self.target_qnetwork, interpolation_parameter)\n",
        "\n",
        "  def soft_update(self, local_model, target_model, interpolation_parameter):\n",
        "    for target_param, local_param in zip(target_model.parameters(), local_model.parameters()):\n",
        "      target_param.data.copy_(interpolation_parameter * local_param.data + (1.0 - interpolation_parameter) * target_param.data)\n"
      ],
      "metadata": {
        "id": "gIxeosSlCORj"
      },
      "execution_count": 7,
      "outputs": []
    },
    {
      "cell_type": "markdown",
      "metadata": {
        "id": "o1tZElccZmf6"
      },
      "source": [
        "### Initializing the DQN agent"
      ]
    },
    {
      "cell_type": "code",
      "source": [
        "agent = Agent(state_size, number_actions)"
      ],
      "metadata": {
        "id": "RWb5SViQRMpU"
      },
      "execution_count": 8,
      "outputs": []
    },
    {
      "cell_type": "markdown",
      "metadata": {
        "id": "E8v0PtUfaVQp"
      },
      "source": [
        "### Training the DQN agent"
      ]
    },
    {
      "cell_type": "code",
      "source": [
        "number_episodes = 2000\n",
        "maximum_number_timesteps_per_episode = 1000\n",
        "epsilon_starting_value = 1.0\n",
        "epsilon_ending_value = 0.01\n",
        "epsilon_decay_value = 0.995\n",
        "epsilon = epsilon_starting_value\n",
        "scores_on_100_episodes = deque(maxlen = 100)\n",
        "\n",
        "for episode in range(1, number_episodes + 1):\n",
        "  state, _ = env.reset()\n",
        "  score = 0\n",
        "  for t in range(maximum_number_timesteps_per_episode):\n",
        "    action = agent.act(state, epsilon)\n",
        "    next_state, reward, done, _, _ = env.step(action)\n",
        "    agent.step(state, action, reward, next_state, done)\n",
        "    state = next_state\n",
        "    score += reward\n",
        "    if done:\n",
        "      break\n",
        "  scores_on_100_episodes.append(score)\n",
        "  epsilon = max(epsilon_ending_value, epsilon_decay_value * epsilon)\n",
        "  print('\\rEpisode {}\\tAverageScore: {:.2f}'.format(episode, np.mean(scores_on_100_episodes)), end=\"\")\n",
        "  if episode % 100 == 0:\n",
        "    print('\\rEpisode {}\\tAverageScore: {:.2f}'.format(episode, np.mean(scores_on_100_episodes)))\n",
        "  if np.mean(scores_on_100_episodes) >= 200.0:\n",
        "    print('\\nEnvironment soled in {:d} episodes!\\tAverageScore: {:.2f}'.format(episode, np.mean(scores_on_100_episodes)))\n",
        "    torch.save(agent.local_qnetwork.state_dict(), 'checkpoint.pth')\n",
        "    break"
      ],
      "metadata": {
        "colab": {
          "base_uri": "https://localhost:8080/"
        },
        "id": "mVgQhCscRkIa",
        "outputId": "83fb5744-9e28-4ea9-8ef6-5dccaf98d1f0"
      },
      "execution_count": 9,
      "outputs": [
        {
          "output_type": "stream",
          "name": "stderr",
          "text": [
            "/usr/local/lib/python3.10/dist-packages/ipykernel/ipkernel.py:283: DeprecationWarning: `should_run_async` will not call `transform_cell` automatically in the future. Please pass the result to `transformed_cell` argument and any exception that happen during thetransform in `preprocessing_exc_tuple` in IPython 7.17 and above.\n",
            "  and should_run_async(code)\n"
          ]
        },
        {
          "output_type": "stream",
          "name": "stdout",
          "text": [
            "Episode 100\tAverageScore: -161.63\n",
            "Episode 200\tAverageScore: -99.47\n",
            "Episode 300\tAverageScore: -24.06\n",
            "Episode 400\tAverageScore: -4.71\n",
            "Episode 500\tAverageScore: 127.64\n",
            "Episode 600\tAverageScore: 164.12\n",
            "Episode 671\tAverageScore: 200.30\n",
            "Environment soled in 671 episodes!\tAverageScore: 200.30\n"
          ]
        }
      ]
    },
    {
      "cell_type": "markdown",
      "metadata": {
        "id": "O8CNwdOTcCoP"
      },
      "source": [
        "## Part 3 - Visualizing the results"
      ]
    },
    {
      "cell_type": "code",
      "execution_count": 10,
      "metadata": {
        "id": "cb9nVvU2Okhk",
        "colab": {
          "base_uri": "https://localhost:8080/",
          "height": 459
        },
        "outputId": "bf4245c9-5ddc-49e4-d06a-4047b37209f2"
      },
      "outputs": [
        {
          "output_type": "stream",
          "name": "stderr",
          "text": [
            "WARNING:imageio_ffmpeg:IMAGEIO FFMPEG_WRITER WARNING: input image is not divisible by macro_block_size=16, resizing from (600, 400) to (608, 400) to ensure video compatibility with most codecs and players. To prevent resizing, make your input image divisible by the macro_block_size or set the macro_block_size to 1 (risking incompatibility).\n"
          ]
        },
        {
          "output_type": "display_data",
          "data": {
            "text/plain": [
              "<IPython.core.display.HTML object>"
            ],
            "text/html": [
              "<video alt=\"test\" autoplay\n",
              "                loop controls style=\"height: 400px;\">\n",
              "                <source src=\"data:video/mp4;base64,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\" type=\"video/mp4\" />\n",
              "             </video>"
            ]
          },
          "metadata": {}
        }
      ],
      "source": [
        "import glob\n",
        "import io\n",
        "import base64\n",
        "import imageio\n",
        "from IPython.display import HTML, display\n",
        "from gym.wrappers.monitoring.video_recorder import VideoRecorder\n",
        "\n",
        "def show_video_of_model(agent, env_name):\n",
        "    env = gym.make(env_name, render_mode='rgb_array')\n",
        "    state, _ = env.reset()\n",
        "    done = False\n",
        "    frames = []\n",
        "    while not done:\n",
        "        frame = env.render()\n",
        "        frames.append(frame)\n",
        "        action = agent.act(state)\n",
        "        state, reward, done, _, _ = env.step(action.item())\n",
        "    env.close()\n",
        "    imageio.mimsave('video.mp4', frames, fps=30)\n",
        "\n",
        "show_video_of_model(agent, 'LunarLander-v2')\n",
        "\n",
        "def show_video():\n",
        "    mp4list = glob.glob('*.mp4')\n",
        "    if len(mp4list) > 0:\n",
        "        mp4 = mp4list[0]\n",
        "        video = io.open(mp4, 'r+b').read()\n",
        "        encoded = base64.b64encode(video)\n",
        "        display(HTML(data='''<video alt=\"test\" autoplay\n",
        "                loop controls style=\"height: 400px;\">\n",
        "                <source src=\"data:video/mp4;base64,{0}\" type=\"video/mp4\" />\n",
        "             </video>'''.format(encoded.decode('ascii'))))\n",
        "    else:\n",
        "        print(\"Could not find video\")\n",
        "\n",
        "show_video()"
      ]
    }
  ],
  "metadata": {
    "colab": {
      "provenance": [],
      "include_colab_link": true
    },
    "kernelspec": {
      "display_name": "Python 3",
      "name": "python3"
    },
    "language_info": {
      "name": "python"
    }
  },
  "nbformat": 4,
  "nbformat_minor": 0
}